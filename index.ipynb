{
 "cells": [
  {
   "cell_type": "code",
   "execution_count": 1,
   "metadata": {
    "collapsed": false
   },
   "outputs": [],
   "source": [
    "from __future__ import print_function\n",
    "from ipywidgets import interact, interactive, fixed, FloatSlider, Checkbox\n",
    "import numpy as np\n",
    "import matplotlib as mpl\n",
    "import matplotlib.pyplot as plt \n",
    "from IPython.display import clear_output, display, HTML\n",
    "%matplotlib notebook\n",
    "mpl.style.use('ggplot')"
   ]
  },
  {
   "cell_type": "code",
   "execution_count": 2,
   "metadata": {
    "collapsed": false
   },
   "outputs": [],
   "source": [
    "def set_defaults():\n",
    "    A = np.arange(1., 100, 1.)\n",
    "    R = np.arange(1., 100, 1.) \n",
    "    P = np.arange(1., 100., 1.)\n",
    "    return (A, R, P)"
   ]
  },
  {
   "cell_type": "code",
   "execution_count": 3,
   "metadata": {
    "collapsed": false
   },
   "outputs": [],
   "source": [
    "def treat_eff(R, P):\n",
    "    eff = (1 - P/R)\n",
    "    if isinstance(eff, float):\n",
    "        return eff\n",
    "    return np.ma.masked_where(eff<0, eff)\n",
    "                           \n",
    "def pot_load_inc(R, A):\n",
    "    return (R / (R + A))\n",
    "\n",
    "def score(R, P, A):\n",
    "    return treat_eff(R, P) * pot_load_inc(R, A)\n"
   ]
  },
  {
   "cell_type": "code",
   "execution_count": 4,
   "metadata": {
    "collapsed": false,
    "scrolled": true
   },
   "outputs": [
    {
     "data": {
      "image/png": "[encoded data removed]",
      "text/plain": [
       "<matplotlib.figure.Figure at 0x104133c90>"
      ]
     },
     "metadata": {},
     "output_type": "display_data"
    },
    {
     "data": {
      "text/plain": [
       "<function __main__.mkplot>"
      ]
     },
     "execution_count": 4,
     "metadata": {},
     "output_type": "execute_result"
    }
   ],
   "source": [
    "f, a = plt.subplots(1,1, figsize=(6,3))\n",
    "a.set_xlabel('Treatment Efficiency')\n",
    "a.set_ylabel('Overall Score')\n",
    "A, R, P = set_defaults()\n",
    "line, = a.plot(treat_eff(R, P), score(R, P, A))\n",
    "dot = a.scatter([],[],color='r', s=40)\n",
    "def mkplot(doR, doP, doA, R, P, A):\n",
    "    _A, _R, _P = set_defaults()\n",
    "    if doA:\n",
    "        A = _A\n",
    "    if doR:\n",
    "        R = _R\n",
    "    if doP:\n",
    "        P = _P\n",
    "    _eff = treat_eff(R, P)\n",
    "    _score = score(R, P, A)\n",
    "    if isinstance(_eff, float) and isinstance(_score, float):\n",
    "        line.set_visible(False)\n",
    "        dot.set_offsets([[_eff, _score]])\n",
    "        dot.set_visible(True)\n",
    "    else:\n",
    "        dot.set_visible(False)\n",
    "        line.set_visible(True)    \n",
    "        line.set_xdata(treat_eff(R, P))\n",
    "        line.set_ydata(score(R, P, A))\n",
    "    a.set_xlim(0, 1)\n",
    "    a.set_ylim(0, 1)\n",
    "    display(f)\n",
    "\n",
    "doR = Checkbox(description='Range of Raw', value=False)\n",
    "doP = Checkbox(description='Range of Post-treatment', value=False)\n",
    "doA = Checkbox(description='Range of Ambient', value=False)\n",
    "valR = FloatSlider(value=20, min=0.0, max=100.0, step=1.0, description='Raw:')\n",
    "valP = FloatSlider(value=10, min=0.0, max=100.0, step=1.0, description='Post-treatment:')\n",
    "valA = FloatSlider(value=50, min=0.0, max=100.0, step=1.0, description='Ambient:')\n",
    "\n",
    "def update_R(*args):\n",
    "    if valR.value < valP.value:\n",
    "        valR.value = valP.value\n",
    "valP.observe(update_R, 'value')\n",
    "\n",
    "def update_P(*args):\n",
    "    if valP.value > valR.value:\n",
    "        valP.value = valR.value\n",
    "valR.observe(update_P, 'value')\n",
    "\n",
    "interact(mkplot, doR=doR, doP=doP, doA=doA, R=valR, P=valP, A=valA)"
   ]
  },
  {
   "cell_type": "code",
   "execution_count": null,
   "metadata": {
    "collapsed": true
   },
   "outputs": [],
   "source": []
  }
 ],
 "metadata": {
  "kernelspec": {
   "display_name": "Python 2",
   "language": "python",
   "name": "python2"
  },
  "language_info": {
   "codemirror_mode": {
    "name": "ipython",
    "version": 2
   },
   "file_extension": ".py",
   "mimetype": "text/x-python",
   "name": "python",
   "nbconvert_exporter": "python",
   "pygments_lexer": "ipython2",
   "version": "2.7.11"
  }
 },
 "nbformat": 4,
 "nbformat_minor": 0
}
