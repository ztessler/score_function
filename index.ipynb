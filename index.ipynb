{
 "cells": [
  {
   "cell_type": "code",
   "execution_count": 57,
   "metadata": {
    "collapsed": false
   },
   "outputs": [],
   "source": [
    "from __future__ import print_function\n",
    "from ipywidgets import interact, interactive, fixed, FloatSlider, Checkbox\n",
    "import numpy as np\n",
    "import matplotlib as mpl\n",
    "import matplotlib.pyplot as plt \n",
    "from IPython.display import clear_output, display, HTML\n",
    "%matplotlib notebook\n",
    "mpl.style.use('ggplot')"
   ]
  },
  {
   "cell_type": "code",
   "execution_count": 89,
   "metadata": {
    "collapsed": false
   },
   "outputs": [],
   "source": [
    "def set_defaults():\n",
    "    U = np.arange(1., 100, 1.)\n",
    "    R = np.arange(1., 100, 1.) \n",
    "    T = np.arange(1., 100., 1.)\n",
    "    return (U, R, T)"
   ]
  },
  {
   "cell_type": "code",
   "execution_count": 90,
   "metadata": {
    "collapsed": false
   },
   "outputs": [],
   "source": [
    "def treat_eff(R, T):\n",
    "    eff = (1 - T/R)\n",
    "    if isinstance(eff, float):\n",
    "        return eff\n",
    "    return np.ma.masked_where(eff<0, eff)\n",
    "                           \n",
    "def pot_load_inc(R, U):\n",
    "    return (R / (R + U))\n",
    "\n",
    "def score(R, T, U):\n",
    "    return treat_eff(R, T) * pot_load_inc(R, U)\n"
   ]
  },
  {
   "cell_type": "code",
   "execution_count": 93,
   "metadata": {
    "collapsed": false,
    "scrolled": true
   },
   "outputs": [
    {
     "data": {
      "image/png": "[encoded data removed]",
      "text/plain": [
       "<matplotlib.figure.Figure at 0x11e2662d0>"
      ]
     },
     "metadata": {},
     "output_type": "display_data"
    }
   ],
   "source": [
    "f, a = plt.subplots(1,1, figsize=(6,3))\n",
    "a.set_xlabel('Treatment Efficiency')\n",
    "a.set_ylabel('Overall Score')\n",
    "U, R, T = set_defaults()\n",
    "line, = a.plot(treat_eff(R, T), score(R, T, U))\n",
    "dot = a.scatter([],[],color='r', s=40)\n",
    "def mkplot(doR, doT, doU, R, T, U):\n",
    "    _U, _R, _T = set_defaults()\n",
    "    if doU:\n",
    "        U = _U\n",
    "    if doR:\n",
    "        R = _R\n",
    "    if doT:\n",
    "        T = _T\n",
    "    _eff = treat_eff(R, T)\n",
    "    _score = score(R, T, U)\n",
    "    if isinstance(_eff, float) and isinstance(_score, float):\n",
    "        line.set_visible(False)\n",
    "        dot.set_offsets([[_eff, _score]])\n",
    "        dot.set_visible(True)\n",
    "    else:\n",
    "        dot.set_visible(False)\n",
    "        line.set_visible(True)    \n",
    "        line.set_xdata(treat_eff(R, T))\n",
    "        line.set_ydata(score(R, T, U))\n",
    "    a.set_xlim(0, 1)\n",
    "    a.set_ylim(0, 1)\n",
    "    display(f)\n",
    "\n",
    "doR = Checkbox(description='Range of R', value=False)\n",
    "doT = Checkbox(description='Range of T', value=False)\n",
    "doU = Checkbox(description='Range of U', value=False)\n",
    "valR = FloatSlider(value=20, min=0.0, max=100.0, step=1.0, description='R:')\n",
    "valT = FloatSlider(value=10, min=0.0, max=100.0, step=1.0, description='T:')\n",
    "valU = FloatSlider(value=50, min=0.0, max=100.0, step=1.0, description='U:')\n",
    "\n",
    "def update_R(*args):\n",
    "    if valR.value < valT.value:\n",
    "        valR.value = valT.value\n",
    "valT.observe(update_R, 'value')\n",
    "\n",
    "def update_T(*args):\n",
    "    if valT.value > valR.value:\n",
    "        valT.value = valR.value\n",
    "valR.observe(update_T, 'value')\n",
    "\n",
    "interact(mkplot, doR=doR, doT=doT, doU=doU, R=valR, T=valT, U=valU)"
   ]
  }
 ],
 "metadata": {
  "kernelspec": {
   "display_name": "Python 2",
   "language": "python",
   "name": "python2"
  },
  "language_info": {
   "codemirror_mode": {
    "name": "ipython",
    "version": 2
   },
   "file_extension": ".py",
   "mimetype": "text/x-python",
   "name": "python",
   "nbconvert_exporter": "python",
   "pygments_lexer": "ipython2",
   "version": "2.7.11"
  }
 },
 "nbformat": 4,
 "nbformat_minor": 0
}
